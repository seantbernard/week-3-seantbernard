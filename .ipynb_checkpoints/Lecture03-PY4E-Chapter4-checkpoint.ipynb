{
 "cells": [
  {
   "cell_type": "markdown",
   "metadata": {
    "slideshow": {
     "slide_type": "slide"
    }
   },
   "source": [
    "![DSB Logo](img/Dolan.jpg)\n",
    "# Python Essentials: Functions\n",
    "## PY4E Chapter 4\n",
    "### What you must know about Python"
   ]
  },
  {
   "cell_type": "markdown",
   "metadata": {
    "slideshow": {
     "slide_type": "slide"
    }
   },
   "source": [
    "# Why Functions?\n",
    "\n",
    "- A **function** is a named, reusable sequence of **statements**\n",
    "  - Like how a variable is a place to store a value for later\n",
    "  - to run a function, just **call** it\n",
    "  \n",
    "- Functions can **return** values, **just like expressions**\n",
    "  - `str()` is a function that returns a string\n",
    "  - A call to `str()` is then itself an expression\n",
    "  \n",
    "- Function calls **always** include `()` (parentheses) after the function name\n",
    "  - Any values listed inside the `()` are **input arguments**\n",
    "  - `str(1.0 + 3)` calls `str()` with the expression `1.0+3` as the argument and returns the equivalent string value"
   ]
  },
  {
   "cell_type": "code",
   "execution_count": 1,
   "metadata": {
    "slideshow": {
     "slide_type": "subslide"
    }
   },
   "outputs": [
    {
     "data": {
      "text/plain": [
       "int"
      ]
     },
     "execution_count": 1,
     "metadata": {},
     "output_type": "execute_result"
    }
   ],
   "source": [
    "type(32)"
   ]
  },
  {
   "cell_type": "markdown",
   "metadata": {
    "slideshow": {
     "slide_type": "slide"
    }
   },
   "source": [
    "# Dissecting Functions\n",
    "\n",
    "Look at this function:\n",
    "```python\n",
    "type(32)\n",
    "```\n",
    "\n",
    "Any function may have:\n",
    "- _function name_, e.g. `type()` \n",
    "    - NOTE that any function needs to have parentheses `()`\n",
    "- (Optional) _argument_, e.g. `32`\n",
    "    - _argument_ is the __input__ of function\n",
    "    - some function does not have argument\n",
    "- (Optional) _return_\n",
    "    - _return_ defines the __output__ of the function\n",
    "    - We will discuss about this later"
   ]
  },
  {
   "cell_type": "markdown",
   "metadata": {
    "slideshow": {
     "slide_type": "slide"
    }
   },
   "source": [
    "# Built-in Functions\n",
    "\n",
    "- Usually, any function needs to be __defined__ before __called__\n",
    "    - definition before usage\n",
    "- As seen before, Python provides important built-in functions \n",
    "    - So we can use them without defining them\n",
    "    - e.g. `type()`, `int()`"
   ]
  },
  {
   "cell_type": "markdown",
   "metadata": {
    "slideshow": {
     "slide_type": "slide"
    }
   },
   "source": [
    "# Several Example Built-in Functions\n",
    "\n",
    "- `max()` and `min()` functions give us the _largest_ and _smallest_ values in a _list_, respectively\n",
    "    - _list_ is a collection of elements, we will discuss it in week 5\n",
    "- another very common built-in function is the `len()` function \n",
    "    - which tells us how many items are in its argument\n",
    "- Later you will see examples of these built-in functions on _string_ values\n",
    "    - but they can be applied to different data types\n",
    "- You should treat names of built-in functions as __reserved words__\n",
    "    - not name your variables using them\n",
    "    - pay attention to the coloring in Jupyter Notebook"
   ]
  },
  {
   "cell_type": "code",
   "execution_count": 2,
   "metadata": {
    "slideshow": {
     "slide_type": "subslide"
    }
   },
   "outputs": [
    {
     "data": {
      "text/plain": [
       "'w'"
      ]
     },
     "execution_count": 2,
     "metadata": {},
     "output_type": "execute_result"
    }
   ],
   "source": [
    "max('Hello world!')"
   ]
  },
  {
   "cell_type": "code",
   "execution_count": 3,
   "metadata": {
    "slideshow": {
     "slide_type": "subslide"
    }
   },
   "outputs": [
    {
     "data": {
      "text/plain": [
       "' '"
      ]
     },
     "execution_count": 3,
     "metadata": {},
     "output_type": "execute_result"
    }
   ],
   "source": [
    "min('Hello world!')"
   ]
  },
  {
   "cell_type": "code",
   "execution_count": 4,
   "metadata": {
    "slideshow": {
     "slide_type": "subslide"
    }
   },
   "outputs": [
    {
     "data": {
      "text/plain": [
       "12"
      ]
     },
     "execution_count": 4,
     "metadata": {},
     "output_type": "execute_result"
    }
   ],
   "source": [
    "len('Hello world!')"
   ]
  },
  {
   "cell_type": "markdown",
   "metadata": {
    "slideshow": {
     "slide_type": "slide"
    }
   },
   "source": [
    "# Type Conversion Functions\n",
    "\n",
    "- We also have seen Python built-in functions that convert values to a different data type\n",
    "    - Most of the data types are built-in functions\n",
    "    - This is very convinient comparing to other programming language\n",
    "    - `int()`, `str()`, `float()`\n",
    "    \n",
    "See following examples:"
   ]
  },
  {
   "cell_type": "code",
   "execution_count": 5,
   "metadata": {
    "slideshow": {
     "slide_type": "subslide"
    }
   },
   "outputs": [
    {
     "ename": "ValueError",
     "evalue": "invalid literal for int() with base 10: 'Hello'",
     "output_type": "error",
     "traceback": [
      "\u001b[0;31m---------------------------------------------------------------------------\u001b[0m",
      "\u001b[0;31mValueError\u001b[0m                                Traceback (most recent call last)",
      "\u001b[0;32m<ipython-input-5-6765ce49acfe>\u001b[0m in \u001b[0;36m<module>\u001b[0;34m\u001b[0m\n\u001b[0;32m----> 1\u001b[0;31m \u001b[0mint\u001b[0m\u001b[0;34m(\u001b[0m\u001b[0;34m'Hello'\u001b[0m\u001b[0;34m)\u001b[0m\u001b[0;34m\u001b[0m\u001b[0;34m\u001b[0m\u001b[0m\n\u001b[0m",
      "\u001b[0;31mValueError\u001b[0m: invalid literal for int() with base 10: 'Hello'"
     ]
    }
   ],
   "source": [
    "int('Hello')"
   ]
  },
  {
   "cell_type": "code",
   "execution_count": 6,
   "metadata": {
    "slideshow": {
     "slide_type": "subslide"
    }
   },
   "outputs": [
    {
     "data": {
      "text/plain": [
       "-2"
      ]
     },
     "execution_count": 6,
     "metadata": {},
     "output_type": "execute_result"
    }
   ],
   "source": [
    "int(-2.3)"
   ]
  },
  {
   "cell_type": "code",
   "execution_count": 7,
   "metadata": {
    "slideshow": {
     "slide_type": "subslide"
    }
   },
   "outputs": [
    {
     "data": {
      "text/plain": [
       "32.0"
      ]
     },
     "execution_count": 7,
     "metadata": {},
     "output_type": "execute_result"
    }
   ],
   "source": [
    "float(32)"
   ]
  },
  {
   "cell_type": "code",
   "execution_count": 8,
   "metadata": {
    "slideshow": {
     "slide_type": "subslide"
    }
   },
   "outputs": [
    {
     "data": {
      "text/plain": [
       "'3.14159'"
      ]
     },
     "execution_count": 8,
     "metadata": {},
     "output_type": "execute_result"
    }
   ],
   "source": [
    "str(3.14159)"
   ]
  },
  {
   "cell_type": "markdown",
   "metadata": {
    "slideshow": {
     "slide_type": "subslide"
    }
   },
   "source": [
    "# Math Functions\n",
    "\n",
    "- Python has a `math` __module__ that\n",
    "    - rovides most of the familiar mathematical functions\n",
    "    - __NOTE__: before you use any _module_, you will have to __import__ it\n",
    "    \n",
    "- A note about importing module:\n",
    "    - _modules_ contains collections of _functions_\n",
    "    - like functions, import before use\n",
    "    - You should always refer to the documentation (docs) of the module you use"
   ]
  },
  {
   "cell_type": "code",
   "execution_count": 9,
   "metadata": {
    "slideshow": {
     "slide_type": "slide"
    }
   },
   "outputs": [],
   "source": [
    "import math"
   ]
  },
  {
   "cell_type": "code",
   "execution_count": 10,
   "metadata": {
    "slideshow": {
     "slide_type": "subslide"
    }
   },
   "outputs": [
    {
     "name": "stdout",
     "output_type": "stream",
     "text": [
      "['__doc__', '__file__', '__loader__', '__name__', '__package__', '__spec__', 'acos', 'acosh', 'asin', 'asinh', 'atan', 'atan2', 'atanh', 'ceil', 'copysign', 'cos', 'cosh', 'degrees', 'e', 'erf', 'erfc', 'exp', 'expm1', 'fabs', 'factorial', 'floor', 'fmod', 'frexp', 'fsum', 'gamma', 'gcd', 'hypot', 'inf', 'isclose', 'isfinite', 'isinf', 'isnan', 'ldexp', 'lgamma', 'log', 'log10', 'log1p', 'log2', 'modf', 'nan', 'pi', 'pow', 'radians', 'remainder', 'sin', 'sinh', 'sqrt', 'tan', 'tanh', 'tau', 'trunc']\n"
     ]
    }
   ],
   "source": [
    "# You can use this command to look at all funtions\n",
    "# a module contains\n",
    "print(dir(math))"
   ]
  },
  {
   "cell_type": "code",
   "execution_count": 13,
   "metadata": {
    "slideshow": {
     "slide_type": "subslide"
    }
   },
   "outputs": [
    {
     "name": "stdout",
     "output_type": "stream",
     "text": [
      "Help on built-in function log10 in module math:\n",
      "\n",
      "log10(x, /)\n",
      "    Return the base 10 logarithm of x.\n",
      "\n"
     ]
    }
   ],
   "source": [
    "# If you want help about a specific function in a module\n",
    "# Note how we call the `log10()` function from the `math` module\n",
    "help(math.log10)"
   ]
  },
  {
   "cell_type": "markdown",
   "metadata": {
    "slideshow": {
     "slide_type": "slide"
    }
   },
   "source": [
    "# Call Functions from Module\n",
    "\n",
    "You can call a function from a module using _dot notation_ (`.`).\n",
    "\n",
    "See example below:\n",
    "\n",
    "```python\n",
    "ratio = signal_power / noise_power\n",
    "decibels = 10 * math.log10(ratio)\n",
    "```\n",
    "\n",
    "Note how we called `log10()` from `math`?\n",
    "\n",
    "__Try it Yourself__: when you type in `math.`, you can press the tab key on the keyboard then Jupyter will list all available functions for you."
   ]
  },
  {
   "cell_type": "code",
   "execution_count": 15,
   "metadata": {
    "slideshow": {
     "slide_type": "subslide"
    }
   },
   "outputs": [],
   "source": [
    "# We define a variable and use it as the argument in the function\n",
    "radians = 0.7\n",
    "height = math.sin(radians)"
   ]
  },
  {
   "cell_type": "code",
   "execution_count": 16,
   "metadata": {
    "slideshow": {
     "slide_type": "subslide"
    }
   },
   "outputs": [
    {
     "data": {
      "text/plain": [
       "0.7071067811865475"
      ]
     },
     "execution_count": 16,
     "metadata": {},
     "output_type": "execute_result"
    }
   ],
   "source": [
    "# You can also use nested functions - \n",
    "# meaning calling a function inside another function\n",
    "degrees = 45\n",
    "math.sin(degrees / 360.0 * 2 * math.pi)"
   ]
  },
  {
   "cell_type": "markdown",
   "metadata": {
    "slideshow": {
     "slide_type": "slide"
    }
   },
   "source": [
    "# Random Numbers\n",
    "\n",
    "- Sometimes we need programs to generate the same output every time\n",
    "    - These programs are called _deterministic_\n",
    "    - For instance, calculations should always produce the same results\n",
    "   \n",
    "- For some applica- tions, though, we want the computer to be unpredictable. \n",
    "    - Thus, we need a random number generator\n",
    "        - In computer world, nothing is __truly__ random\n",
    "        - Just means they are not _conviniently_ mathematically solveable\n",
    "    - For instance, games, lottery, ..."
   ]
  },
  {
   "cell_type": "markdown",
   "metadata": {
    "slideshow": {
     "slide_type": "slide"
    }
   },
   "source": [
    "# Random Numbers\n",
    "\n",
    "- Making deterministic programs is not difficult, but we need ways to make programs _non-deterministic_\n",
    "    - One of them is to use _algorithms_ that generate _pseudorandom_ numbers\n",
    "    - Pseudorandom numbers are not __truly__ random because they are generated by a _deterministic_ computation\n",
    "        -  but just by looking at the numbers it is all but impossible to distinguish them from random\n",
    "    - Python `random` module provides functions that generate pseudorandom numbers\n",
    "        - One of the function in the `random` package is the `random()` function\n",
    "            - generates a random float between 0.0 and 1.0 (including 0.0 but not 1.0)\n",
    "        - See the example (you can try run the program multiple times to see if the number every time is different)"
   ]
  },
  {
   "cell_type": "code",
   "execution_count": 17,
   "metadata": {},
   "outputs": [
    {
     "data": {
      "text/plain": [
       "0.4942126491262283"
      ]
     },
     "execution_count": 17,
     "metadata": {},
     "output_type": "execute_result"
    }
   ],
   "source": [
    "import random\n",
    "\n",
    "random.random()"
   ]
  },
  {
   "cell_type": "code",
   "execution_count": 18,
   "metadata": {},
   "outputs": [
    {
     "data": {
      "text/plain": [
       "0.578686708455348"
      ]
     },
     "execution_count": 18,
     "metadata": {},
     "output_type": "execute_result"
    }
   ],
   "source": [
    "random.random()"
   ]
  },
  {
   "cell_type": "code",
   "execution_count": 19,
   "metadata": {
    "slideshow": {
     "slide_type": "slide"
    }
   },
   "outputs": [
    {
     "data": {
      "text/plain": [
       "4"
      ]
     },
     "execution_count": 19,
     "metadata": {},
     "output_type": "execute_result"
    }
   ],
   "source": [
    "# Another important function in `random` package is `randint()`\n",
    "# Which outputs a random integer in a certain range\n",
    "# You need to define the range (low and high) as arguments of the function\n",
    "random.randint(1, 9)"
   ]
  },
  {
   "cell_type": "code",
   "execution_count": 20,
   "metadata": {
    "slideshow": {
     "slide_type": "subslide"
    }
   },
   "outputs": [
    {
     "data": {
      "text/plain": [
       "7"
      ]
     },
     "execution_count": 20,
     "metadata": {},
     "output_type": "execute_result"
    }
   ],
   "source": [
    "random.randint(1, 9)"
   ]
  },
  {
   "cell_type": "code",
   "execution_count": 21,
   "metadata": {
    "slideshow": {
     "slide_type": "slide"
    }
   },
   "outputs": [
    {
     "data": {
      "text/plain": [
       "1"
      ]
     },
     "execution_count": 21,
     "metadata": {},
     "output_type": "execute_result"
    }
   ],
   "source": [
    "# We can also randomly choose an element from a sequence\n",
    "# we can use `random.choice()` for that\n",
    "# The argument is the sequence, the output is the randomly selected element\n",
    "\n",
    "seq = [1, 2, 3, 4, 5]\n",
    "random.choice(seq)"
   ]
  },
  {
   "cell_type": "code",
   "execution_count": 22,
   "metadata": {
    "slideshow": {
     "slide_type": "slide"
    }
   },
   "outputs": [
    {
     "data": {
      "text/plain": [
       "2"
      ]
     },
     "execution_count": 22,
     "metadata": {},
     "output_type": "execute_result"
    }
   ],
   "source": [
    "random.choice(seq)"
   ]
  },
  {
   "cell_type": "markdown",
   "metadata": {
    "slideshow": {
     "slide_type": "slide"
    }
   },
   "source": [
    "# Your Turn Here\n",
    "\n",
    "Can you think of different use cases for `random.random()`, `random.randint()`, and `random.choice()`?"
   ]
  },
  {
   "cell_type": "code",
   "execution_count": 24,
   "metadata": {},
   "outputs": [
    {
     "name": "stdout",
     "output_type": "stream",
     "text": [
      "['BPF', 'LOG4', 'NV_MAGICCONST', 'RECIP_BPF', 'Random', 'SG_MAGICCONST', 'SystemRandom', 'TWOPI', '_BuiltinMethodType', '_MethodType', '_Sequence', '_Set', '__all__', '__builtins__', '__cached__', '__doc__', '__file__', '__loader__', '__name__', '__package__', '__spec__', '_acos', '_bisect', '_ceil', '_cos', '_e', '_exp', '_inst', '_itertools', '_log', '_os', '_pi', '_random', '_sha512', '_sin', '_sqrt', '_test', '_test_generator', '_urandom', '_warn', 'betavariate', 'choice', 'choices', 'expovariate', 'gammavariate', 'gauss', 'getrandbits', 'getstate', 'lognormvariate', 'normalvariate', 'paretovariate', 'randint', 'random', 'randrange', 'sample', 'seed', 'setstate', 'shuffle', 'triangular', 'uniform', 'vonmisesvariate', 'weibullvariate']\n"
     ]
    }
   ],
   "source": [
    "# the `random` module also contains functions to generate random values \n",
    "# from continuous distributions including Gaussian, exponential, gamma, and a few more.\n",
    "# NOTE: `random` is a very important package in data science - you will see its usage later in the course\n",
    "print(dir(random))"
   ]
  },
  {
   "cell_type": "markdown",
   "metadata": {
    "slideshow": {
     "slide_type": "slide"
    }
   },
   "source": [
    "# Defining Your Own Functions\n",
    "\n",
    "- So far we have been using Python built-in functions, but a lot of times we need to add our own functions\n",
    "    - a function definition specifies the _name_, _arguments_, _body_, and (optionally) _output_ \n",
    "        - _name_ is what you will use to call the function, avoid all __reserved words__ and __built-in function names__\n",
    "        - _arguments_ are the __input__ of a function\n",
    "        - _body_ is the sequence of statements you want the function to execute\n",
    "        - (optional) _output_ is the __output__ of a function\n",
    "        \n",
    "Here is an example:"
   ]
  },
  {
   "cell_type": "code",
   "execution_count": 25,
   "metadata": {
    "slideshow": {
     "slide_type": "subslide"
    }
   },
   "outputs": [],
   "source": [
    "\n",
    "def print_lyrics():\n",
    "    print(\"I'm a lumberjack, and I'm okay.\") \n",
    "    print('I sleep all night and I work all day.')"
   ]
  },
  {
   "cell_type": "markdown",
   "metadata": {
    "slideshow": {
     "slide_type": "slide"
    }
   },
   "source": [
    "# Function Definition\n",
    "\n",
    "- `def` is the keyword indicates a function definition\n",
    "- Right after the `def` keyword you need to provide the function _name_ (e.g. `print_lyrics()`)\n",
    "    - Function names follow the same rule as variable names\n",
    "- If the parentheses after function name is empty (like you see in the example), that mean the function does not require any _input_\n",
    "- First line of function definition is called _header_\n",
    "    - _hearder_ has to end with a colon\n",
    "- Rest of the function definition is called _body_\n",
    "    - _body_ needs to be indented\n",
    "- Function in essence is a variable with a type `function`\n"
   ]
  },
  {
   "cell_type": "code",
   "execution_count": 28,
   "metadata": {
    "slideshow": {
     "slide_type": "subslide"
    }
   },
   "outputs": [
    {
     "name": "stdout",
     "output_type": "stream",
     "text": [
      "<function print_lyrics at 0x7fb9a9680158>\n"
     ]
    }
   ],
   "source": [
    "# Let's try to call (use) our function\n",
    "print(print_lyrics)"
   ]
  },
  {
   "cell_type": "code",
   "execution_count": 29,
   "metadata": {
    "slideshow": {
     "slide_type": "subslide"
    }
   },
   "outputs": [
    {
     "name": "stdout",
     "output_type": "stream",
     "text": [
      "<class 'function'>\n"
     ]
    }
   ],
   "source": [
    "# Type of a function\n",
    "print(type(print_lyrics))"
   ]
  },
  {
   "cell_type": "code",
   "execution_count": 30,
   "metadata": {
    "slideshow": {
     "slide_type": "subslide"
    }
   },
   "outputs": [
    {
     "name": "stdout",
     "output_type": "stream",
     "text": [
      "I'm a lumberjack, and I'm okay.\n",
      "I sleep all night and I work all day.\n"
     ]
    }
   ],
   "source": [
    "# Actual call of the function\n",
    "# Note even though there is no arguments, you need to call the function with empty ()\n",
    "print_lyrics()"
   ]
  },
  {
   "cell_type": "code",
   "execution_count": 31,
   "metadata": {
    "slideshow": {
     "slide_type": "slide"
    }
   },
   "outputs": [],
   "source": [
    "# Nested Functions\n",
    "# Once a function is defined, you can call it in another function\n",
    "# For example\n",
    "def repeat_lyrics(): \n",
    "    print_lyrics() \n",
    "    print_lyrics()"
   ]
  },
  {
   "cell_type": "code",
   "execution_count": 32,
   "metadata": {
    "slideshow": {
     "slide_type": "subslide"
    }
   },
   "outputs": [
    {
     "name": "stdout",
     "output_type": "stream",
     "text": [
      "I'm a lumberjack, and I'm okay.\n",
      "I sleep all night and I work all day.\n",
      "I'm a lumberjack, and I'm okay.\n",
      "I sleep all night and I work all day.\n"
     ]
    }
   ],
   "source": [
    "# Call the new nested function\n",
    "repeat_lyrics()"
   ]
  },
  {
   "cell_type": "markdown",
   "metadata": {
    "slideshow": {
     "slide_type": "slide"
    }
   },
   "source": [
    "# Function Definition and Call\n",
    "\n",
    "In above example we see the lifecycle of a function, including _definition_ and _call_.\n",
    "\n",
    "__NOTE__: function definition MUST appear before function call.|\n",
    "\n",
    "```python\n",
    "# Definition of inner function\n",
    "def print_lyrics():\n",
    "    print(\"I'm a lumberjack, and I'm okay.\") \n",
    "    print('I sleep all night and I work all day.')\n",
    "# Definition of outer function    \n",
    "def repeat_lyrics(): \n",
    "    print_lyrics() \n",
    "    print_lyrics()\n",
    "# call of outer function\n",
    "repeat_lyrics()\n",
    "```\n",
    "\n",
    "### Question: \n",
    "Why didn't we call the inner function?"
   ]
  },
  {
   "cell_type": "markdown",
   "metadata": {
    "slideshow": {
     "slide_type": "slide"
    }
   },
   "source": [
    "# Flow of Execution\n",
    "\n",
    "- Refer to the order statements are executed\n",
    "    - Program starts with the first statement\n",
    "    - Statements are executed one at a time\n",
    "    \n",
    "- Function definitions amd calls\n",
    "    - Function definitions do not change the flow \n",
    "        - Although statements in function definitions are not executed __until__ function is called\n",
    "        - Thus, function calls changes the flow\n",
    "        - Things get more complicated when nested function exists\n",
    "        \n",
    "- Program ends with the last statement"
   ]
  },
  {
   "cell_type": "markdown",
   "metadata": {
    "slideshow": {
     "slide_type": "slide"
    }
   },
   "source": [
    "# Arguments and Parameters\n",
    "\n",
    "- We knew already that functions take _arguments_ as _input_\n",
    "    - although arguments are optional\n",
    "    - for instance, `math.sin()` takes a number as argument (input)\n",
    "    - `print_lyrics()` takes no argument\n",
    "    \n",
    "But what happens when the function takes the argument?\n",
    "\n",
    "- In function definition, arguments are assigned to variabls called _parameters_"
   ]
  },
  {
   "cell_type": "markdown",
   "metadata": {
    "slideshow": {
     "slide_type": "slide"
    }
   },
   "source": [
    "# Arguments and Parameters\n",
    "\n",
    "Let's see following example:\n",
    "\n",
    "```python\n",
    "def print_twice(bruce): \n",
    "    print(bruce)\n",
    "    print(bruce)\n",
    "```\n",
    "\n",
    "- Variable `bruce` in the header of fucntion definition (1st line) is an argument;\n",
    "- Variable `bruce` in the body of function definition is parameers;"
   ]
  },
  {
   "cell_type": "code",
   "execution_count": 1,
   "metadata": {
    "slideshow": {
     "slide_type": "subslide"
    }
   },
   "outputs": [],
   "source": [
    "def print_twice(bruce): \n",
    "    print(bruce)\n",
    "    print(bruce)"
   ]
  },
  {
   "cell_type": "code",
   "execution_count": 2,
   "metadata": {
    "slideshow": {
     "slide_type": "subslide"
    }
   },
   "outputs": [
    {
     "name": "stdout",
     "output_type": "stream",
     "text": [
      "bruce\n",
      "bruce\n"
     ]
    }
   ],
   "source": [
    "print_twice('bruce')"
   ]
  },
  {
   "cell_type": "code",
   "execution_count": 3,
   "metadata": {
    "slideshow": {
     "slide_type": "subslide"
    }
   },
   "outputs": [
    {
     "name": "stdout",
     "output_type": "stream",
     "text": [
      "Spam\n",
      "Spam\n"
     ]
    }
   ],
   "source": [
    "print_twice('Spam')"
   ]
  },
  {
   "cell_type": "markdown",
   "metadata": {},
   "source": [
    "# Arguments and Parameters\n",
    "\n",
    "- The variable(s) are used for functions to take input values.\n",
    "- Keep in mind that the argument can be \n",
    "    - a variable, a statement, or another function, including nested functions.\n",
    "- Sometimes we pass certain value to function definition\n",
    "    - These values are called __default__ values (_of an argument_)\n",
    "    - These are particularly useful in Pandas, which we will cover in the second half of the course"
   ]
  },
  {
   "cell_type": "code",
   "execution_count": 4,
   "metadata": {
    "slideshow": {
     "slide_type": "subslide"
    }
   },
   "outputs": [
    {
     "name": "stdout",
     "output_type": "stream",
     "text": [
      "-1.0\n",
      "-1.0\n"
     ]
    }
   ],
   "source": [
    "import math\n",
    "\n",
    "print_twice(math.cos(math.pi))"
   ]
  },
  {
   "cell_type": "code",
   "execution_count": 5,
   "metadata": {
    "slideshow": {
     "slide_type": "subslide"
    }
   },
   "outputs": [
    {
     "name": "stdout",
     "output_type": "stream",
     "text": [
      "Eric, the half a bee.\n",
      "Eric, the half a bee.\n"
     ]
    }
   ],
   "source": [
    "michael = 'Eric, the half a bee.'\n",
    "\n",
    "print_twice(michael)"
   ]
  },
  {
   "cell_type": "code",
   "execution_count": 6,
   "metadata": {
    "slideshow": {
     "slide_type": "slide"
    }
   },
   "outputs": [],
   "source": [
    "# in the definition, function `x_sqrt()` takes two argument, `x` and `y`\n",
    "# we provide a default value for argument `y`\n",
    "def x_sqrt(x, y=2):\n",
    "    return(x**y)"
   ]
  },
  {
   "cell_type": "code",
   "execution_count": 8,
   "metadata": {
    "slideshow": {
     "slide_type": "subslide"
    }
   },
   "outputs": [
    {
     "name": "stdout",
     "output_type": "stream",
     "text": [
      "4\n"
     ]
    }
   ],
   "source": [
    "# let's see the call of the function \n",
    "# when we passing values to both arguments\n",
    "print(x_sqrt(2, 2))"
   ]
  },
  {
   "cell_type": "code",
   "execution_count": 10,
   "metadata": {
    "slideshow": {
     "slide_type": "subslide"
    }
   },
   "outputs": [
    {
     "name": "stdout",
     "output_type": "stream",
     "text": [
      "4\n"
     ]
    }
   ],
   "source": [
    "# above function call did not show the benefit of default value\n",
    "# you do not have to pass a value to an argument with default value\n",
    "# Let's see\n",
    "print(x_sqrt(2))"
   ]
  },
  {
   "cell_type": "code",
   "execution_count": 12,
   "metadata": {
    "slideshow": {
     "slide_type": "subslide"
    }
   },
   "outputs": [
    {
     "name": "stdout",
     "output_type": "stream",
     "text": [
      "8\n"
     ]
    }
   ],
   "source": [
    "# In above example, we pass value `2` to argument `x`;\n",
    "# but ignored argument `y`\n",
    "# We can always overwrite the default value \n",
    "# let's see\n",
    "print(x_sqrt(2,3))"
   ]
  },
  {
   "cell_type": "markdown",
   "metadata": {
    "slideshow": {
     "slide_type": "slide"
    }
   },
   "source": [
    "# Fruitful and Void Functions\n",
    "\n",
    "- Some functions yield results\n",
    "    - like the `math` functions, or `x_sqrt()`\n",
    "    - they are called _fruitful_ functions\n",
    "    \n",
    "- Some other functions perform an action but no returned results\n",
    "    - like the `print_twice()` function\n",
    "    - hey are called _void_ functions"
   ]
  },
  {
   "cell_type": "markdown",
   "metadata": {
    "slideshow": {
     "slide_type": "slide"
    }
   },
   "source": [
    "# Fruitful Functions\n",
    "\n",
    "- For fruitful functions, you almost always do something about the results\n",
    "    - ou might assign it to a variable or use it as part of an expression\n",
    "```python\n",
    "x = math.cos(radians)\n",
    "golden = (math.sqrt(5) + 1) / 2\n",
    "```\n",
    "\n",
    "- When you call a fruitful function, you will see results right away"
   ]
  },
  {
   "cell_type": "code",
   "execution_count": 13,
   "metadata": {
    "slideshow": {
     "slide_type": "subslide"
    }
   },
   "outputs": [
    {
     "data": {
      "text/plain": [
       "2.0"
      ]
     },
     "execution_count": 13,
     "metadata": {},
     "output_type": "execute_result"
    }
   ],
   "source": [
    "# You see the results below\n",
    "# But since you did not store it anywhere, this is not very useful\n",
    "math.sqrt(4)"
   ]
  },
  {
   "cell_type": "markdown",
   "metadata": {
    "slideshow": {
     "slide_type": "slide"
    }
   },
   "source": [
    "# Void Functions\n",
    "\n",
    "- Void function may do something\n",
    "    - Like display something on the screen\n",
    "    - But they do not return any value\n",
    "    \n",
    "- If you assign the results to a variable\n",
    "    - You will get a `None` value\n",
    "    - `None` value is a special type of `NoneType`"
   ]
  },
  {
   "cell_type": "code",
   "execution_count": 15,
   "metadata": {
    "slideshow": {
     "slide_type": "subslide"
    }
   },
   "outputs": [
    {
     "name": "stdout",
     "output_type": "stream",
     "text": [
      "Bing\n",
      "Bing\n",
      "None\n"
     ]
    }
   ],
   "source": [
    "# Even though you see expected results below\n",
    "# Note that the variable `result` has a value of `None`\n",
    "result = print_twice('Bing')\n",
    "print(result)"
   ]
  },
  {
   "cell_type": "code",
   "execution_count": 16,
   "metadata": {
    "slideshow": {
     "slide_type": "slide"
    }
   },
   "outputs": [
    {
     "name": "stdout",
     "output_type": "stream",
     "text": [
      "8\n"
     ]
    }
   ],
   "source": [
    "# For any function being fruitful\n",
    "# you must include a `return` statement in the definition\n",
    "# let's see\n",
    "\n",
    "def addtwo(a, b): \n",
    "    added = a + b\n",
    "    return added\n",
    "\n",
    "x = addtwo(3, 5)\n",
    "print(x)"
   ]
  },
  {
   "cell_type": "code",
   "execution_count": 17,
   "metadata": {
    "slideshow": {
     "slide_type": "slide"
    }
   },
   "outputs": [
    {
     "name": "stdout",
     "output_type": "stream",
     "text": [
      "positive\n",
      "negative\n"
     ]
    }
   ],
   "source": [
    "# You can have multiple return statements in one function definition\n",
    "def sign_of_x(x):\n",
    "    if x > 0:\n",
    "        return('positive')\n",
    "    elif x < 0:\n",
    "        return('negative')\n",
    "    else:\n",
    "        return('neutral')\n",
    "\n",
    "print(sign_of_x(1))\n",
    "print(sign_of_x(-1))"
   ]
  },
  {
   "cell_type": "markdown",
   "metadata": {
    "slideshow": {
     "slide_type": "slide"
    }
   },
   "source": [
    "# Why Functions ... Again?\n",
    "\n",
    "There are several reasons:\n",
    "- Creating a new function gives you an opportunity to name a group of state- ments, which makes your program easier to read, understand, and debug.\n",
    "- Functions can make a program smaller by eliminating repetitive code. Later, if you make a change, you only have to make it in one place.\n",
    "- Dividing a long program into functions allows you to debug the parts one at a time and then assemble them into a working whole.\n",
    "- Well-designed functions are often useful for many programs. Once you write and debug one, you can reuse it."
   ]
  },
  {
   "cell_type": "markdown",
   "metadata": {
    "slideshow": {
     "slide_type": "slide"
    }
   },
   "source": [
    "![DSB Logo](img/Dolan.jpg)\n",
    "# Some Notes about Pseudo Coding\n",
    "### What you must know about Python\n",
    "[ref](https://www.geeksforgeeks.org/how-to-write-a-pseudo-code/)"
   ]
  },
  {
   "cell_type": "markdown",
   "metadata": {
    "slideshow": {
     "slide_type": "slide"
    }
   },
   "source": [
    "# Pseudo Code\n",
    "\n",
    "- Pseudo coding is a must have technique for professionals in the field\n",
    "    - logical representation of the code\n",
    "    - code/program: logical sequence of statements\n",
    "    - pseudo code: representation of code in form of annotations and informative text written in plain English\n",
    "    "
   ]
  },
  {
   "cell_type": "markdown",
   "metadata": {
    "slideshow": {
     "slide_type": "slide"
    }
   },
   "source": [
    "# Advantages of Pseudo Code\n",
    "\n",
    "- Improves the readability of any approach. It’s one of the best approaches to start implementation of an algorithm.\n",
    "- Acts as a bridge between the program and the algorithm or flowchart. Also works as a rough documentation, so the program of one developer can be understood easily when a pseudo code is written out. In industries, the approach of documentation is essential. And that’s where a pseudo-code proves vital.\n",
    "- The main goal of a pseudo code is to explain what exactly each line of a program should do, hence making the code construction phase easier for the programmer."
   ]
  },
  {
   "cell_type": "markdown",
   "metadata": {
    "slideshow": {
     "slide_type": "slide"
    }
   },
   "source": [
    "# How to Write Pseudo Code\n",
    "\n",
    "1. Start with the statement of pseudo code with the main goal or the aim\n",
    "2. Understand the question/goal of the code, and arrange the tasks accordingly\n",
    "3. If there are any IF statement or loop in the program, indent them like actual coding\n",
    "4. Use appropriate naming conventions for your variables and functions\n",
    "5. Use shorter sentences as possible, but make sure you capture important tasks\n",
    "6. Divide your pseudo code into sections, make sure it is complete and clear\n",
    "7. Make your psuedo code as simple as possible - then embed them as comments in your actual code"
   ]
  },
  {
   "cell_type": "markdown",
   "metadata": {
    "slideshow": {
     "slide_type": "slide"
    }
   },
   "source": [
    "# Example of Pseudo Code\n",
    "\n",
    "1. Understand the question/goal\n",
    "> __Question:__ For every number from 1 to 100, output `Fizz` if the number is divisible by 3, output `Buzz` if the number is divisible by 5, and output `FizzBuzz` if the number is divisible by both 3 and 5. If none of these conditions match, then just output the number.\n",
    "\n",
    "> __Statement__: for any number between 1 and 100, determine if it is divisible by 3, or 5, or both."
   ]
  },
  {
   "cell_type": "markdown",
   "metadata": {
    "slideshow": {
     "slide_type": "slide"
    }
   },
   "source": [
    "# Example of Pseudo Code\n",
    "\n",
    "2. Arrangement of Tasks\n",
    "\n",
    "Step1: Iterate through 1 to 100, store current number in variable (`x`)\n",
    "    - Case1: IF x is divisible by 3 but not 5:\n",
    "        - Output1.1: OUTPUT 'Fizz'\n",
    "    - Case2: IF x is divisible by 5 but not 3:\n",
    "        - Output1.2: OUTPUT 'Buzz\n",
    "    - Case3: IF x is divisible by both 3 and 5:\n",
    "        - Output1.3: OUTPUT 'FizzBuzz'\n",
    "    - Case4: IF none of above:\n",
    "        - Output1.4: OUTPUT x"
   ]
  },
  {
   "cell_type": "markdown",
   "metadata": {
    "slideshow": {
     "slide_type": "slide"
    }
   },
   "source": [
    "# Example of Pseudo Code\n",
    "\n",
    "Since the program is simple, we can write the psuedo code directly.\n",
    "\n",
    "```\n",
    "FOR x <-- 1 to 100 DO:\n",
    "    IF x is divisible by 3 and 5:\n",
    "        THEN print('FizzBuzz')\n",
    "    ELSE IF x divisible by 3:\n",
    "        THEN print('Fizz')\n",
    "    ELSE IF x divisible by 5:\n",
    "        THEN print('Buzz')\n",
    "    ELSE:\n",
    "        print(x)\n",
    "        \n",
    "```"
   ]
  },
  {
   "cell_type": "markdown",
   "metadata": {
    "slideshow": {
     "slide_type": "slide"
    }
   },
   "source": [
    "# Example of Pseudo Code\n",
    "\n",
    "Now we can code based on the pseudo code:\n",
    "\n",
    "```python\n",
    "# FOR x <-- 1 to 100 DO:\n",
    "# I know we haven't covered loop yet but pretend we already know\n",
    "for x in range(1, 101):\n",
    "    # IF x is divisible by 3 and 5:\n",
    "    if (x % 3 == 0 and x % 5 == 0):\n",
    "        # THEN print('FizzBuzz')\n",
    "        print('FizzBuzz')\n",
    "    # ELSE IF x divisible by 3:\n",
    "    elif x % 3 == 0:\n",
    "        # THEN print('Fizz')\n",
    "        print('Fizz')\n",
    "    # ELSE IF x divisible by 5:\n",
    "    elif x % 5 == 0:\n",
    "        # THEN print('Buzz')\n",
    "        print('Buzz')\n",
    "    # ELSE:\n",
    "    else:\n",
    "        print(x)\n",
    "```\n",
    "\n",
    "Don't forget we need to test the logic of the code."
   ]
  },
  {
   "cell_type": "code",
   "execution_count": 18,
   "metadata": {
    "scrolled": true,
    "slideshow": {
     "slide_type": "subslide"
    }
   },
   "outputs": [
    {
     "name": "stdout",
     "output_type": "stream",
     "text": [
      "1\n",
      "2\n",
      "Fizz\n",
      "4\n",
      "Buzz\n",
      "Fizz\n",
      "7\n",
      "8\n",
      "Fizz\n",
      "Buzz\n",
      "11\n",
      "Fizz\n",
      "13\n",
      "14\n",
      "FizzBuzz\n",
      "16\n",
      "17\n",
      "Fizz\n",
      "19\n",
      "Buzz\n",
      "Fizz\n",
      "22\n",
      "23\n",
      "Fizz\n",
      "Buzz\n",
      "26\n",
      "Fizz\n",
      "28\n",
      "29\n",
      "FizzBuzz\n",
      "31\n",
      "32\n",
      "Fizz\n",
      "34\n",
      "Buzz\n",
      "Fizz\n",
      "37\n",
      "38\n",
      "Fizz\n",
      "Buzz\n",
      "41\n",
      "Fizz\n",
      "43\n",
      "44\n",
      "FizzBuzz\n",
      "46\n",
      "47\n",
      "Fizz\n",
      "49\n",
      "Buzz\n",
      "Fizz\n",
      "52\n",
      "53\n",
      "Fizz\n",
      "Buzz\n",
      "56\n",
      "Fizz\n",
      "58\n",
      "59\n",
      "FizzBuzz\n",
      "61\n",
      "62\n",
      "Fizz\n",
      "64\n",
      "Buzz\n",
      "Fizz\n",
      "67\n",
      "68\n",
      "Fizz\n",
      "Buzz\n",
      "71\n",
      "Fizz\n",
      "73\n",
      "74\n",
      "FizzBuzz\n",
      "76\n",
      "77\n",
      "Fizz\n",
      "79\n",
      "Buzz\n",
      "Fizz\n",
      "82\n",
      "83\n",
      "Fizz\n",
      "Buzz\n",
      "86\n",
      "Fizz\n",
      "88\n",
      "89\n",
      "FizzBuzz\n",
      "91\n",
      "92\n",
      "Fizz\n",
      "94\n",
      "Buzz\n",
      "Fizz\n",
      "97\n",
      "98\n",
      "Fizz\n",
      "Buzz\n"
     ]
    }
   ],
   "source": [
    "# FOR x <-- 1 to 100 DO:\n",
    "# I know we haven't covered loop yet but pretend we already know\n",
    "for x in range(1, 101):\n",
    "    # IF x is divisible by 3 and 5:\n",
    "    if (x % 3 == 0 and x % 5 == 0):\n",
    "        # THEN print('FizzBuzz')\n",
    "        print('FizzBuzz')\n",
    "    # ELSE IF x divisible by 3:\n",
    "    elif x % 3 == 0:\n",
    "        # THEN print('Fizz')\n",
    "        print('Fizz')\n",
    "    # ELSE IF x divisible by 5:\n",
    "    elif x % 5 == 0:\n",
    "        # THEN print('Buzz')\n",
    "        print('Buzz')\n",
    "    # ELSE:\n",
    "    else:\n",
    "        print(x)"
   ]
  },
  {
   "cell_type": "markdown",
   "metadata": {
    "slideshow": {
     "slide_type": "slide"
    }
   },
   "source": [
    "# Your Turn Here\n",
    "Finish exercises below by following instructions of each of them. \n",
    "\n",
    "Make sure you provide proper __pseudo code__ for each of your program."
   ]
  },
  {
   "cell_type": "markdown",
   "metadata": {
    "slideshow": {
     "slide_type": "slide"
    }
   },
   "source": [
    "## Q1. Code Question\n",
    "\n",
    "Write a function that takes three integers between 1 and 10, for each integer `i`, print `i` and `i` times of pond sign (`#`) in a separate line.\n",
    "\n",
    "Expected outcome - for example input (1, 3, 5):\n",
    "\n",
    "```\n",
    "1: #\n",
    "3: ###\n",
    "5: #####\n",
    "```\n",
    "\n",
    "Use the code block below to complete your code.\n",
    "\n",
    "__HINT__:\n",
    "1. `random.randint()` can be helpful.\n",
    "2. Consider whether this function is fruitful or void."
   ]
  },
  {
   "cell_type": "code",
   "execution_count": null,
   "metadata": {
    "slideshow": {
     "slide_type": "subslide"
    }
   },
   "outputs": [],
   "source": []
  },
  {
   "cell_type": "markdown",
   "metadata": {
    "slideshow": {
     "slide_type": "slide"
    }
   },
   "source": [
    "## Q2. Code Question\n",
    "\n",
    "Write a function takes three random integers (`i`, `lower`, `upper`) between 1 and 100:\n",
    "- The first integer is the number in question (`i`);\n",
    "- The second and third integers are the lower and upper boundaries of a range, respectively (`lower`, `upper`).\n",
    "\n",
    "Output: \n",
    "- If `i` is in range of (`lower`, `upper`), including `lower` and `upper`, output `'in range'`;\n",
    "- Otherwise, output `'out of range'`.\n",
    "\n",
    "Example input and output:\n",
    "```\n",
    "(4, 1, 100) --> 'in range'\n",
    "(1, 5, 20) --> 'out of range'\n",
    "```\n",
    "\n",
    "Use the code block below to complete your code."
   ]
  },
  {
   "cell_type": "code",
   "execution_count": null,
   "metadata": {
    "slideshow": {
     "slide_type": "subslide"
    }
   },
   "outputs": [],
   "source": []
  },
  {
   "cell_type": "markdown",
   "metadata": {
    "slideshow": {
     "slide_type": "slide"
    }
   },
   "source": [
    "## Q3. Code Question\n",
    "\n",
    "Suppose two players (A, B) play a game of dice. Each player has a regular 6-sided dice (1 - 6). \n",
    "\n",
    "In each round, the player with larger number on the dice wins - the results is the winning player (A or B); if tied, then the result is 'tied'.\n",
    "\n",
    "The game has ten (10) rounds, write a function to record the results of the game.\n",
    "\n",
    "Example:\n",
    "If A rolls a 6 and B rolls a 4 in a round, output is 'A';\n",
    "If A rolls a 3 and B rools a 3 in a round, output is 'tied'.\n",
    "\n",
    "\n",
    "Use the code block below to complete your code."
   ]
  },
  {
   "cell_type": "code",
   "execution_count": null,
   "metadata": {
    "slideshow": {
     "slide_type": "subslide"
    }
   },
   "outputs": [],
   "source": []
  },
  {
   "cell_type": "markdown",
   "metadata": {
    "slideshow": {
     "slide_type": "slide"
    }
   },
   "source": [
    "# Classwork (start here in class)\n",
    "You can start working on them right now:\n",
    "- Read Chapter 4 in PY4E\n",
    "- If time permits, start in on your homework. \n",
    "- Ask questions when you need help. Use this time to get help from the professor!\n",
    "\n",
    "# Homework (do at home)\n",
    "The following is due before class next week:\n",
    "  - Any remaining classwork from tonight\n",
    "  - Data Camp “Logic, Control Flow and Filtering” assignment \n",
    "\n",
    "Note: All work on Data Camp is logged. Don't try to fake it!\n",
    "\n",
    "Please email jtao@fairfield.edu if you have any problems or questions."
   ]
  },
  {
   "cell_type": "markdown",
   "metadata": {
    "slideshow": {
     "slide_type": "slide"
    }
   },
   "source": [
    "![DSB Logo](img/Dolan.jpg)\n",
    "# Python Essentials: Functions\n",
    "## PY4E Chapter 4\n",
    "### What you must know about Python"
   ]
  },
  {
   "cell_type": "code",
   "execution_count": null,
   "metadata": {},
   "outputs": [],
   "source": []
  }
 ],
 "metadata": {
  "celltoolbar": "Slideshow",
  "kernelspec": {
   "display_name": "Python 3",
   "language": "python",
   "name": "python3"
  },
  "language_info": {
   "codemirror_mode": {
    "name": "ipython",
    "version": 3
   },
   "file_extension": ".py",
   "mimetype": "text/x-python",
   "name": "python",
   "nbconvert_exporter": "python",
   "pygments_lexer": "ipython3",
   "version": "3.7.3"
  }
 },
 "nbformat": 4,
 "nbformat_minor": 2
}
